{
 "metadata": {
  "language_info": {
   "codemirror_mode": {
    "name": "ipython",
    "version": 3
   },
   "file_extension": ".py",
   "mimetype": "text/x-python",
   "name": "python",
   "nbconvert_exporter": "python",
   "pygments_lexer": "ipython3",
   "version": "3.8.5"
  },
  "orig_nbformat": 2,
  "kernelspec": {
   "name": "python385jvsc74a57bd0a2d1abb0f267c2cba858968164db9ddf2bb61f08d72a12f86344fdb6e2ea320c",
   "display_name": "Python 3.8.5 64-bit ('anaconda3': conda)"
  }
 },
 "nbformat": 4,
 "nbformat_minor": 2,
 "cells": [
  {
   "cell_type": "code",
   "execution_count": 1,
   "metadata": {},
   "outputs": [],
   "source": [
    "import pandas as pd"
   ]
  },
  {
   "cell_type": "code",
   "execution_count": 2,
   "metadata": {},
   "outputs": [],
   "source": [
    "df=pd.read_csv('./data/train.csv')"
   ]
  },
  {
   "cell_type": "code",
   "execution_count": 3,
   "metadata": {},
   "outputs": [
    {
     "output_type": "execute_result",
     "data": {
      "text/plain": [
       "          id  carat        cut color clarity  depth  table     x     y     z  \\\n",
       "0          0   1.01    Premium     G     VS1   62.7   58.0  6.36  6.31  3.97   \n",
       "1          1   0.60       Good     G     VS2   64.3   57.0  5.31  5.38  3.43   \n",
       "2          2   1.60    Premium     H     SI2   59.4   59.0  7.55  7.60  4.50   \n",
       "3          3   0.30  Very Good     J     VS1   63.5   58.0  4.27  4.24  2.70   \n",
       "4          4   1.00  Very Good     F     SI2   62.8   57.0  6.37  6.44  4.02   \n",
       "...      ...    ...        ...   ...     ...    ...    ...   ...   ...   ...   \n",
       "40450  40450   0.51      Ideal     E     VS2   62.5   55.0  5.08  5.13  3.19   \n",
       "40451  40451   0.80      Ideal     H     VS2   62.1   54.0  5.96  5.99  3.71   \n",
       "40452  40452   1.53    Premium     G     SI2   58.7   59.0  7.51  7.45  4.39   \n",
       "40453  40453   1.51      Ideal     I     VS2   61.6   54.0  7.38  7.42  4.57   \n",
       "40454  40454   1.00      Ideal     E     VS2   62.1   57.0  6.38  6.41  3.97   \n",
       "\n",
       "       price  \n",
       "0      8.754  \n",
       "1      7.492  \n",
       "2      9.010  \n",
       "3      6.227  \n",
       "4      8.314  \n",
       "...      ...  \n",
       "40450  7.412  \n",
       "40451  8.016  \n",
       "40452  9.070  \n",
       "40453  9.199  \n",
       "40454  8.932  \n",
       "\n",
       "[40455 rows x 11 columns]"
      ],
      "text/html": "<div>\n<style scoped>\n    .dataframe tbody tr th:only-of-type {\n        vertical-align: middle;\n    }\n\n    .dataframe tbody tr th {\n        vertical-align: top;\n    }\n\n    .dataframe thead th {\n        text-align: right;\n    }\n</style>\n<table border=\"1\" class=\"dataframe\">\n  <thead>\n    <tr style=\"text-align: right;\">\n      <th></th>\n      <th>id</th>\n      <th>carat</th>\n      <th>cut</th>\n      <th>color</th>\n      <th>clarity</th>\n      <th>depth</th>\n      <th>table</th>\n      <th>x</th>\n      <th>y</th>\n      <th>z</th>\n      <th>price</th>\n    </tr>\n  </thead>\n  <tbody>\n    <tr>\n      <th>0</th>\n      <td>0</td>\n      <td>1.01</td>\n      <td>Premium</td>\n      <td>G</td>\n      <td>VS1</td>\n      <td>62.7</td>\n      <td>58.0</td>\n      <td>6.36</td>\n      <td>6.31</td>\n      <td>3.97</td>\n      <td>8.754</td>\n    </tr>\n    <tr>\n      <th>1</th>\n      <td>1</td>\n      <td>0.60</td>\n      <td>Good</td>\n      <td>G</td>\n      <td>VS2</td>\n      <td>64.3</td>\n      <td>57.0</td>\n      <td>5.31</td>\n      <td>5.38</td>\n      <td>3.43</td>\n      <td>7.492</td>\n    </tr>\n    <tr>\n      <th>2</th>\n      <td>2</td>\n      <td>1.60</td>\n      <td>Premium</td>\n      <td>H</td>\n      <td>SI2</td>\n      <td>59.4</td>\n      <td>59.0</td>\n      <td>7.55</td>\n      <td>7.60</td>\n      <td>4.50</td>\n      <td>9.010</td>\n    </tr>\n    <tr>\n      <th>3</th>\n      <td>3</td>\n      <td>0.30</td>\n      <td>Very Good</td>\n      <td>J</td>\n      <td>VS1</td>\n      <td>63.5</td>\n      <td>58.0</td>\n      <td>4.27</td>\n      <td>4.24</td>\n      <td>2.70</td>\n      <td>6.227</td>\n    </tr>\n    <tr>\n      <th>4</th>\n      <td>4</td>\n      <td>1.00</td>\n      <td>Very Good</td>\n      <td>F</td>\n      <td>SI2</td>\n      <td>62.8</td>\n      <td>57.0</td>\n      <td>6.37</td>\n      <td>6.44</td>\n      <td>4.02</td>\n      <td>8.314</td>\n    </tr>\n    <tr>\n      <th>...</th>\n      <td>...</td>\n      <td>...</td>\n      <td>...</td>\n      <td>...</td>\n      <td>...</td>\n      <td>...</td>\n      <td>...</td>\n      <td>...</td>\n      <td>...</td>\n      <td>...</td>\n      <td>...</td>\n    </tr>\n    <tr>\n      <th>40450</th>\n      <td>40450</td>\n      <td>0.51</td>\n      <td>Ideal</td>\n      <td>E</td>\n      <td>VS2</td>\n      <td>62.5</td>\n      <td>55.0</td>\n      <td>5.08</td>\n      <td>5.13</td>\n      <td>3.19</td>\n      <td>7.412</td>\n    </tr>\n    <tr>\n      <th>40451</th>\n      <td>40451</td>\n      <td>0.80</td>\n      <td>Ideal</td>\n      <td>H</td>\n      <td>VS2</td>\n      <td>62.1</td>\n      <td>54.0</td>\n      <td>5.96</td>\n      <td>5.99</td>\n      <td>3.71</td>\n      <td>8.016</td>\n    </tr>\n    <tr>\n      <th>40452</th>\n      <td>40452</td>\n      <td>1.53</td>\n      <td>Premium</td>\n      <td>G</td>\n      <td>SI2</td>\n      <td>58.7</td>\n      <td>59.0</td>\n      <td>7.51</td>\n      <td>7.45</td>\n      <td>4.39</td>\n      <td>9.070</td>\n    </tr>\n    <tr>\n      <th>40453</th>\n      <td>40453</td>\n      <td>1.51</td>\n      <td>Ideal</td>\n      <td>I</td>\n      <td>VS2</td>\n      <td>61.6</td>\n      <td>54.0</td>\n      <td>7.38</td>\n      <td>7.42</td>\n      <td>4.57</td>\n      <td>9.199</td>\n    </tr>\n    <tr>\n      <th>40454</th>\n      <td>40454</td>\n      <td>1.00</td>\n      <td>Ideal</td>\n      <td>E</td>\n      <td>VS2</td>\n      <td>62.1</td>\n      <td>57.0</td>\n      <td>6.38</td>\n      <td>6.41</td>\n      <td>3.97</td>\n      <td>8.932</td>\n    </tr>\n  </tbody>\n</table>\n<p>40455 rows × 11 columns</p>\n</div>"
     },
     "metadata": {},
     "execution_count": 3
    }
   ],
   "source": [
    "df"
   ]
  },
  {
   "source": [
    "Los diamantes más valorados no tienen color. Por lo tanto, cuanto más color tenga una piedra (amarillo o marrón), menor será su grado. Sin embargo, los diamantes amarillos o marrones que superan el grado Z suben inmediatamente de precio. Estos diamantes tienen suficiente color para ser considerados \"de fantasía\", junto con los diamantes rosas, verdes y azules. (Una vez que estos diamantes tienen suficiente saturación para mostrar estos colores, se consideran automáticamente de lujo).\n",
    "\n",
    "\n",
    "La escala D-Z de la GIA se divide en cinco categorías:\n",
    "\n",
    "· Incoloro - D, E, F.  \n",
    "· Casi incoloro - G, H, I, J.  \n",
    "· Tenue - K, L, M.  \n",
    "· Muy ligero - N, O, P, Q, R.  \n",
    "· Ligero - S, T, U, V, W, X, Y, Z. \n",
    "\n",
    "D es el más caro.\n",
    "\n",
    "\n",
    "\n",
    "\n"
   ],
   "cell_type": "markdown",
   "metadata": {}
  },
  {
   "cell_type": "code",
   "execution_count": 4,
   "metadata": {},
   "outputs": [],
   "source": [
    "def limpia_catergoricas(data):\n",
    "\n",
    "    def limpia_color(df):\n",
    "        return df.apply(lambda x: abs(ord(x.upper())-ord('Z')))\n",
    "\n",
    "\n",
    "    def limpia_corte(df):\n",
    "        dict_cut_={'Ideal':5,'Premium':4,  'Very Good':3,'Good':2,  'Fair':1, 'Poor':0}\n",
    "        return df.apply(dict_cut)\n",
    "\n",
    "    def limpia_claridad(df):\n",
    "        dict_clarity={'I3':0, 'I2':1, 'I1':2, 'SI2':3, 'SI1':4, 'VS2':5, \n",
    "                    'VS1':6, 'VVS2':7, 'VVS1':8, 'IF':9,'F':10}\n",
    "        return df.apply(dict_clarity)\n",
    "\n",
    "    data.color=limpia_color(data.color)\n",
    "    data.cut=limpia_corte(data.cut)\n",
    "    data.clarity=limpia_claridad(data.clarity)\n",
    "    return data\n",
    "    \n",
    "\n",
    "\n",
    "\n"
   ]
  },
  {
   "cell_type": "code",
   "execution_count": 5,
   "metadata": {},
   "outputs": [
    {
     "output_type": "stream",
     "name": "stdout",
     "text": [
      "0        G\n1        G\n2        H\n3        J\n4        F\n        ..\n40450    E\n40451    H\n40452    G\n40453    I\n40454    E\nName: color, Length: 40455, dtype: object\n"
     ]
    },
    {
     "output_type": "error",
     "ename": "RuntimeError",
     "evalue": "No active exception to reraise",
     "traceback": [
      "\u001b[0;31m---------------------------------------------------------------------------\u001b[0m",
      "\u001b[0;31mRuntimeError\u001b[0m                              Traceback (most recent call last)",
      "\u001b[0;32m<ipython-input-5-9bc4a2e34c31>\u001b[0m in \u001b[0;36m<module>\u001b[0;34m\u001b[0m\n\u001b[0;32m----> 1\u001b[0;31m \u001b[0mlimpia_catergoricas\u001b[0m\u001b[0;34m(\u001b[0m\u001b[0mdf\u001b[0m\u001b[0;34m)\u001b[0m\u001b[0;34m\u001b[0m\u001b[0;34m\u001b[0m\u001b[0m\n\u001b[0m",
      "\u001b[0;32m<ipython-input-4-edd6dc8e332f>\u001b[0m in \u001b[0;36mlimpia_catergoricas\u001b[0;34m(data)\u001b[0m\n\u001b[1;32m     16\u001b[0m         \u001b[0;32mreturn\u001b[0m \u001b[0mdf\u001b[0m\u001b[0;34m.\u001b[0m\u001b[0mapply\u001b[0m\u001b[0;34m(\u001b[0m\u001b[0mdict_clarity\u001b[0m\u001b[0;34m)\u001b[0m\u001b[0;34m\u001b[0m\u001b[0;34m\u001b[0m\u001b[0m\n\u001b[1;32m     17\u001b[0m \u001b[0;34m\u001b[0m\u001b[0m\n\u001b[0;32m---> 18\u001b[0;31m     \u001b[0mdata\u001b[0m\u001b[0;34m.\u001b[0m\u001b[0mcolor\u001b[0m\u001b[0;34m=\u001b[0m\u001b[0mlimpia_color\u001b[0m\u001b[0;34m(\u001b[0m\u001b[0mdata\u001b[0m\u001b[0;34m.\u001b[0m\u001b[0mcolor\u001b[0m\u001b[0;34m)\u001b[0m\u001b[0;34m\u001b[0m\u001b[0;34m\u001b[0m\u001b[0m\n\u001b[0m\u001b[1;32m     19\u001b[0m     \u001b[0mdata\u001b[0m\u001b[0;34m.\u001b[0m\u001b[0mcut\u001b[0m\u001b[0;34m=\u001b[0m\u001b[0mlimpia_color\u001b[0m\u001b[0;34m(\u001b[0m\u001b[0mdata\u001b[0m\u001b[0;34m.\u001b[0m\u001b[0mcut\u001b[0m\u001b[0;34m)\u001b[0m\u001b[0;34m\u001b[0m\u001b[0;34m\u001b[0m\u001b[0m\n\u001b[1;32m     20\u001b[0m     \u001b[0mdata\u001b[0m\u001b[0;34m.\u001b[0m\u001b[0mclarity\u001b[0m\u001b[0;34m=\u001b[0m\u001b[0mlimpia_claridad\u001b[0m\u001b[0;34m(\u001b[0m\u001b[0mdata\u001b[0m\u001b[0;34m.\u001b[0m\u001b[0mclarity\u001b[0m\u001b[0;34m)\u001b[0m\u001b[0;34m\u001b[0m\u001b[0;34m\u001b[0m\u001b[0m\n",
      "\u001b[0;32m<ipython-input-4-edd6dc8e332f>\u001b[0m in \u001b[0;36mlimpia_color\u001b[0;34m(df)\u001b[0m\n\u001b[1;32m      3\u001b[0m     \u001b[0;32mdef\u001b[0m \u001b[0mlimpia_color\u001b[0m\u001b[0;34m(\u001b[0m\u001b[0mdf\u001b[0m\u001b[0;34m)\u001b[0m\u001b[0;34m:\u001b[0m\u001b[0;34m\u001b[0m\u001b[0;34m\u001b[0m\u001b[0m\n\u001b[1;32m      4\u001b[0m         \u001b[0mprint\u001b[0m\u001b[0;34m(\u001b[0m\u001b[0mdf\u001b[0m\u001b[0;34m)\u001b[0m\u001b[0;34m\u001b[0m\u001b[0;34m\u001b[0m\u001b[0m\n\u001b[0;32m----> 5\u001b[0;31m         \u001b[0;32mraise\u001b[0m\u001b[0;34m\u001b[0m\u001b[0;34m\u001b[0m\u001b[0m\n\u001b[0m\u001b[1;32m      6\u001b[0m         \u001b[0;32mreturn\u001b[0m \u001b[0mdf\u001b[0m\u001b[0;34m.\u001b[0m\u001b[0mapply\u001b[0m\u001b[0;34m(\u001b[0m\u001b[0;32mlambda\u001b[0m \u001b[0mx\u001b[0m\u001b[0;34m:\u001b[0m \u001b[0mabs\u001b[0m\u001b[0;34m(\u001b[0m\u001b[0mord\u001b[0m\u001b[0;34m(\u001b[0m\u001b[0mx\u001b[0m\u001b[0;34m.\u001b[0m\u001b[0mupper\u001b[0m\u001b[0;34m(\u001b[0m\u001b[0;34m)\u001b[0m\u001b[0;34m)\u001b[0m\u001b[0;34m-\u001b[0m\u001b[0mord\u001b[0m\u001b[0;34m(\u001b[0m\u001b[0;34m'Z'\u001b[0m\u001b[0;34m)\u001b[0m\u001b[0;34m)\u001b[0m\u001b[0;34m)\u001b[0m\u001b[0;34m\u001b[0m\u001b[0;34m\u001b[0m\u001b[0m\n\u001b[1;32m      7\u001b[0m \u001b[0;34m\u001b[0m\u001b[0m\n",
      "\u001b[0;31mRuntimeError\u001b[0m: No active exception to reraise"
     ]
    }
   ],
   "source": [
    "limpia_catergoricas(df)"
   ]
  },
  {
   "cell_type": "code",
   "execution_count": 21,
   "metadata": {},
   "outputs": [
    {
     "output_type": "execute_result",
     "data": {
      "text/plain": [
       "          id  carat        cut  color clarity  depth  table     x     y     z  \\\n",
       "0          0   1.01    Premium     19     VS1   62.7   58.0  6.36  6.31  3.97   \n",
       "1          1   0.60       Good     19     VS2   64.3   57.0  5.31  5.38  3.43   \n",
       "2          2   1.60    Premium     18     SI2   59.4   59.0  7.55  7.60  4.50   \n",
       "3          3   0.30  Very Good     16     VS1   63.5   58.0  4.27  4.24  2.70   \n",
       "4          4   1.00  Very Good     20     SI2   62.8   57.0  6.37  6.44  4.02   \n",
       "...      ...    ...        ...    ...     ...    ...    ...   ...   ...   ...   \n",
       "40450  40450   0.51      Ideal     21     VS2   62.5   55.0  5.08  5.13  3.19   \n",
       "40451  40451   0.80      Ideal     18     VS2   62.1   54.0  5.96  5.99  3.71   \n",
       "40452  40452   1.53    Premium     19     SI2   58.7   59.0  7.51  7.45  4.39   \n",
       "40453  40453   1.51      Ideal     17     VS2   61.6   54.0  7.38  7.42  4.57   \n",
       "40454  40454   1.00      Ideal     21     VS2   62.1   57.0  6.38  6.41  3.97   \n",
       "\n",
       "       price  \n",
       "0      8.754  \n",
       "1      7.492  \n",
       "2      9.010  \n",
       "3      6.227  \n",
       "4      8.314  \n",
       "...      ...  \n",
       "40450  7.412  \n",
       "40451  8.016  \n",
       "40452  9.070  \n",
       "40453  9.199  \n",
       "40454  8.932  \n",
       "\n",
       "[40455 rows x 11 columns]"
      ],
      "text/html": "<div>\n<style scoped>\n    .dataframe tbody tr th:only-of-type {\n        vertical-align: middle;\n    }\n\n    .dataframe tbody tr th {\n        vertical-align: top;\n    }\n\n    .dataframe thead th {\n        text-align: right;\n    }\n</style>\n<table border=\"1\" class=\"dataframe\">\n  <thead>\n    <tr style=\"text-align: right;\">\n      <th></th>\n      <th>id</th>\n      <th>carat</th>\n      <th>cut</th>\n      <th>color</th>\n      <th>clarity</th>\n      <th>depth</th>\n      <th>table</th>\n      <th>x</th>\n      <th>y</th>\n      <th>z</th>\n      <th>price</th>\n    </tr>\n  </thead>\n  <tbody>\n    <tr>\n      <th>0</th>\n      <td>0</td>\n      <td>1.01</td>\n      <td>Premium</td>\n      <td>19</td>\n      <td>VS1</td>\n      <td>62.7</td>\n      <td>58.0</td>\n      <td>6.36</td>\n      <td>6.31</td>\n      <td>3.97</td>\n      <td>8.754</td>\n    </tr>\n    <tr>\n      <th>1</th>\n      <td>1</td>\n      <td>0.60</td>\n      <td>Good</td>\n      <td>19</td>\n      <td>VS2</td>\n      <td>64.3</td>\n      <td>57.0</td>\n      <td>5.31</td>\n      <td>5.38</td>\n      <td>3.43</td>\n      <td>7.492</td>\n    </tr>\n    <tr>\n      <th>2</th>\n      <td>2</td>\n      <td>1.60</td>\n      <td>Premium</td>\n      <td>18</td>\n      <td>SI2</td>\n      <td>59.4</td>\n      <td>59.0</td>\n      <td>7.55</td>\n      <td>7.60</td>\n      <td>4.50</td>\n      <td>9.010</td>\n    </tr>\n    <tr>\n      <th>3</th>\n      <td>3</td>\n      <td>0.30</td>\n      <td>Very Good</td>\n      <td>16</td>\n      <td>VS1</td>\n      <td>63.5</td>\n      <td>58.0</td>\n      <td>4.27</td>\n      <td>4.24</td>\n      <td>2.70</td>\n      <td>6.227</td>\n    </tr>\n    <tr>\n      <th>4</th>\n      <td>4</td>\n      <td>1.00</td>\n      <td>Very Good</td>\n      <td>20</td>\n      <td>SI2</td>\n      <td>62.8</td>\n      <td>57.0</td>\n      <td>6.37</td>\n      <td>6.44</td>\n      <td>4.02</td>\n      <td>8.314</td>\n    </tr>\n    <tr>\n      <th>...</th>\n      <td>...</td>\n      <td>...</td>\n      <td>...</td>\n      <td>...</td>\n      <td>...</td>\n      <td>...</td>\n      <td>...</td>\n      <td>...</td>\n      <td>...</td>\n      <td>...</td>\n      <td>...</td>\n    </tr>\n    <tr>\n      <th>40450</th>\n      <td>40450</td>\n      <td>0.51</td>\n      <td>Ideal</td>\n      <td>21</td>\n      <td>VS2</td>\n      <td>62.5</td>\n      <td>55.0</td>\n      <td>5.08</td>\n      <td>5.13</td>\n      <td>3.19</td>\n      <td>7.412</td>\n    </tr>\n    <tr>\n      <th>40451</th>\n      <td>40451</td>\n      <td>0.80</td>\n      <td>Ideal</td>\n      <td>18</td>\n      <td>VS2</td>\n      <td>62.1</td>\n      <td>54.0</td>\n      <td>5.96</td>\n      <td>5.99</td>\n      <td>3.71</td>\n      <td>8.016</td>\n    </tr>\n    <tr>\n      <th>40452</th>\n      <td>40452</td>\n      <td>1.53</td>\n      <td>Premium</td>\n      <td>19</td>\n      <td>SI2</td>\n      <td>58.7</td>\n      <td>59.0</td>\n      <td>7.51</td>\n      <td>7.45</td>\n      <td>4.39</td>\n      <td>9.070</td>\n    </tr>\n    <tr>\n      <th>40453</th>\n      <td>40453</td>\n      <td>1.51</td>\n      <td>Ideal</td>\n      <td>17</td>\n      <td>VS2</td>\n      <td>61.6</td>\n      <td>54.0</td>\n      <td>7.38</td>\n      <td>7.42</td>\n      <td>4.57</td>\n      <td>9.199</td>\n    </tr>\n    <tr>\n      <th>40454</th>\n      <td>40454</td>\n      <td>1.00</td>\n      <td>Ideal</td>\n      <td>21</td>\n      <td>VS2</td>\n      <td>62.1</td>\n      <td>57.0</td>\n      <td>6.38</td>\n      <td>6.41</td>\n      <td>3.97</td>\n      <td>8.932</td>\n    </tr>\n  </tbody>\n</table>\n<p>40455 rows × 11 columns</p>\n</div>"
     },
     "metadata": {},
     "execution_count": 21
    }
   ],
   "source": [
    "df"
   ]
  },
  {
   "cell_type": "code",
   "execution_count": null,
   "metadata": {},
   "outputs": [],
   "source": []
  }
 ]
}