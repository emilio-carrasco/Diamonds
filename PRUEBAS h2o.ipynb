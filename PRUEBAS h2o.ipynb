{
 "metadata": {
  "language_info": {
   "codemirror_mode": {
    "name": "ipython",
    "version": 3
   },
   "file_extension": ".py",
   "mimetype": "text/x-python",
   "name": "python",
   "nbconvert_exporter": "python",
   "pygments_lexer": "ipython3",
   "version": "3.5.6"
  },
  "orig_nbformat": 2,
  "kernelspec": {
   "name": "python356jvsc74a57bd0c7dd4a2c4138f2952458b1463775cb0fc55b0efea6e8e1a9c193a4ff894f1633",
   "display_name": "Python 3.5.6 64-bit ('p35': conda)"
  }
 },
 "nbformat": 4,
 "nbformat_minor": 2,
 "cells": [
  {
   "cell_type": "code",
   "execution_count": 1,
   "metadata": {},
   "outputs": [],
   "source": [
    "import pandas as pd\n",
    "from sklearn.model_selection import train_test_split\n",
    "from sklearn.linear_model import LinearRegression\n",
    "from sklearn.metrics import mean_squared_error as mse\n",
    "from sklearn.model_selection import GridSearchCV\n",
    "from sklearn.tree import DecisionTreeRegressor\n",
    "from sklearn.ensemble import RandomForestRegressor\n",
    "import os\n",
    "\n",
    "import numpy as np\n",
    "\n",
    "df=pd.read_csv('./data/train.csv')"
   ]
  },
  {
   "cell_type": "code",
   "execution_count": 2,
   "metadata": {},
   "outputs": [],
   "source": [
    "def limpia_catergoricas(data):\n",
    "\n",
    "    def limpia_color(df):\n",
    "        return df.apply(lambda x: abs(ord(x.upper())-ord('Z')))\n",
    "\n",
    "\n",
    "    def limpia_corte(df):\n",
    "        dict_cut={'Ideal':5,'Premium':4,  'Very Good':3,'Good':2,  'Fair':1, 'Poor':0}\n",
    "        return df.map(dict_cut)\n",
    "\n",
    "    def limpia_claridad(df):\n",
    "        dict_clarity={'I3':0, 'I2':1, 'I1':2, 'SI2':3, 'SI1':4, 'VS2':5, \n",
    "                    'VS1':6, 'VVS2':7, 'VVS1':8, 'IF':9,'F':10}\n",
    "        return df.map(dict_clarity)\n",
    "\n",
    "    data.color=limpia_color(data.color)\n",
    "    data.cut=limpia_corte(data.cut)\n",
    "    data.clarity=limpia_claridad(data.clarity)\n",
    "    return data\n",
    "    \n",
    "\n",
    "def limpia_dimensiones(data):\n",
    "    data.columns=['id', 'carat', 'cut', 'color', 'clarity', 'depth_p', 'table_p', 'x', 'y',\n",
    "       'z', 'price']\n",
    "    return data[['cut', 'color', 'clarity', 'carat', 'depth_p', 'table_p','price']]\n",
    "\n",
    "def incluye_ideal_table(data,ideal):\n",
    "    data['ideal_table']=abs(data.table_p-ideal)\n",
    "    return data.drop('table_p',axis=1)\n"
   ]
  },
  {
   "cell_type": "code",
   "execution_count": 3,
   "metadata": {},
   "outputs": [
    {
     "output_type": "execute_result",
     "data": {
      "text/html": "<div>\n<style scoped>\n    .dataframe tbody tr th:only-of-type {\n        vertical-align: middle;\n    }\n\n    .dataframe tbody tr th {\n        vertical-align: top;\n    }\n\n    .dataframe thead th {\n        text-align: right;\n    }\n</style>\n<table border=\"1\" class=\"dataframe\">\n  <thead>\n    <tr style=\"text-align: right;\">\n      <th></th>\n      <th>cut</th>\n      <th>color</th>\n      <th>clarity</th>\n      <th>carat</th>\n      <th>depth_p</th>\n      <th>table_p</th>\n      <th>price</th>\n    </tr>\n  </thead>\n  <tbody>\n    <tr>\n      <th>0</th>\n      <td>4</td>\n      <td>19</td>\n      <td>6</td>\n      <td>1.01</td>\n      <td>62.7</td>\n      <td>58.0</td>\n      <td>8.754</td>\n    </tr>\n    <tr>\n      <th>1</th>\n      <td>2</td>\n      <td>19</td>\n      <td>5</td>\n      <td>0.60</td>\n      <td>64.3</td>\n      <td>57.0</td>\n      <td>7.492</td>\n    </tr>\n    <tr>\n      <th>2</th>\n      <td>4</td>\n      <td>18</td>\n      <td>3</td>\n      <td>1.60</td>\n      <td>59.4</td>\n      <td>59.0</td>\n      <td>9.010</td>\n    </tr>\n    <tr>\n      <th>3</th>\n      <td>3</td>\n      <td>16</td>\n      <td>6</td>\n      <td>0.30</td>\n      <td>63.5</td>\n      <td>58.0</td>\n      <td>6.227</td>\n    </tr>\n    <tr>\n      <th>4</th>\n      <td>3</td>\n      <td>20</td>\n      <td>3</td>\n      <td>1.00</td>\n      <td>62.8</td>\n      <td>57.0</td>\n      <td>8.314</td>\n    </tr>\n    <tr>\n      <th>5</th>\n      <td>5</td>\n      <td>21</td>\n      <td>5</td>\n      <td>0.53</td>\n      <td>61.9</td>\n      <td>55.0</td>\n      <td>7.451</td>\n    </tr>\n    <tr>\n      <th>6</th>\n      <td>5</td>\n      <td>19</td>\n      <td>9</td>\n      <td>0.31</td>\n      <td>61.9</td>\n      <td>53.0</td>\n      <td>6.792</td>\n    </tr>\n    <tr>\n      <th>7</th>\n      <td>4</td>\n      <td>16</td>\n      <td>5</td>\n      <td>1.00</td>\n      <td>60.3</td>\n      <td>58.0</td>\n      <td>8.240</td>\n    </tr>\n    <tr>\n      <th>8</th>\n      <td>3</td>\n      <td>20</td>\n      <td>6</td>\n      <td>1.01</td>\n      <td>59.9</td>\n      <td>59.0</td>\n      <td>8.828</td>\n    </tr>\n    <tr>\n      <th>9</th>\n      <td>5</td>\n      <td>16</td>\n      <td>6</td>\n      <td>1.22</td>\n      <td>60.8</td>\n      <td>57.0</td>\n      <td>8.613</td>\n    </tr>\n    <tr>\n      <th>10</th>\n      <td>3</td>\n      <td>19</td>\n      <td>4</td>\n      <td>0.39</td>\n      <td>61.7</td>\n      <td>57.0</td>\n      <td>6.528</td>\n    </tr>\n    <tr>\n      <th>11</th>\n      <td>2</td>\n      <td>17</td>\n      <td>4</td>\n      <td>1.64</td>\n      <td>57.9</td>\n      <td>61.0</td>\n      <td>9.220</td>\n    </tr>\n    <tr>\n      <th>12</th>\n      <td>4</td>\n      <td>20</td>\n      <td>4</td>\n      <td>0.70</td>\n      <td>62.1</td>\n      <td>59.0</td>\n      <td>7.694</td>\n    </tr>\n    <tr>\n      <th>13</th>\n      <td>5</td>\n      <td>19</td>\n      <td>7</td>\n      <td>0.36</td>\n      <td>61.8</td>\n      <td>54.0</td>\n      <td>6.677</td>\n    </tr>\n    <tr>\n      <th>14</th>\n      <td>4</td>\n      <td>17</td>\n      <td>4</td>\n      <td>1.19</td>\n      <td>62.2</td>\n      <td>58.0</td>\n      <td>8.472</td>\n    </tr>\n    <tr>\n      <th>15</th>\n      <td>4</td>\n      <td>21</td>\n      <td>7</td>\n      <td>0.56</td>\n      <td>59.2</td>\n      <td>56.0</td>\n      <td>7.822</td>\n    </tr>\n    <tr>\n      <th>16</th>\n      <td>5</td>\n      <td>19</td>\n      <td>5</td>\n      <td>0.56</td>\n      <td>61.2</td>\n      <td>56.0</td>\n      <td>7.365</td>\n    </tr>\n    <tr>\n      <th>17</th>\n      <td>3</td>\n      <td>18</td>\n      <td>6</td>\n      <td>0.77</td>\n      <td>63.3</td>\n      <td>57.0</td>\n      <td>7.982</td>\n    </tr>\n    <tr>\n      <th>18</th>\n      <td>4</td>\n      <td>19</td>\n      <td>5</td>\n      <td>1.21</td>\n      <td>62.2</td>\n      <td>60.0</td>\n      <td>8.937</td>\n    </tr>\n    <tr>\n      <th>19</th>\n      <td>2</td>\n      <td>16</td>\n      <td>6</td>\n      <td>0.71</td>\n      <td>63.3</td>\n      <td>55.0</td>\n      <td>7.540</td>\n    </tr>\n    <tr>\n      <th>20</th>\n      <td>3</td>\n      <td>19</td>\n      <td>4</td>\n      <td>0.90</td>\n      <td>63.0</td>\n      <td>57.0</td>\n      <td>8.211</td>\n    </tr>\n    <tr>\n      <th>21</th>\n      <td>5</td>\n      <td>19</td>\n      <td>9</td>\n      <td>1.05</td>\n      <td>62.5</td>\n      <td>56.0</td>\n      <td>9.088</td>\n    </tr>\n    <tr>\n      <th>22</th>\n      <td>4</td>\n      <td>21</td>\n      <td>6</td>\n      <td>0.40</td>\n      <td>60.5</td>\n      <td>61.0</td>\n      <td>7.026</td>\n    </tr>\n    <tr>\n      <th>23</th>\n      <td>4</td>\n      <td>17</td>\n      <td>7</td>\n      <td>0.31</td>\n      <td>62.2</td>\n      <td>57.0</td>\n      <td>6.548</td>\n    </tr>\n    <tr>\n      <th>24</th>\n      <td>4</td>\n      <td>21</td>\n      <td>6</td>\n      <td>1.00</td>\n      <td>63.0</td>\n      <td>60.0</td>\n      <td>8.867</td>\n    </tr>\n    <tr>\n      <th>25</th>\n      <td>3</td>\n      <td>18</td>\n      <td>3</td>\n      <td>2.01</td>\n      <td>63.4</td>\n      <td>57.0</td>\n      <td>9.687</td>\n    </tr>\n    <tr>\n      <th>26</th>\n      <td>5</td>\n      <td>18</td>\n      <td>4</td>\n      <td>1.68</td>\n      <td>61.9</td>\n      <td>56.0</td>\n      <td>9.501</td>\n    </tr>\n    <tr>\n      <th>27</th>\n      <td>5</td>\n      <td>19</td>\n      <td>9</td>\n      <td>0.27</td>\n      <td>61.6</td>\n      <td>57.0</td>\n      <td>6.339</td>\n    </tr>\n    <tr>\n      <th>28</th>\n      <td>3</td>\n      <td>21</td>\n      <td>7</td>\n      <td>0.25</td>\n      <td>62.2</td>\n      <td>58.0</td>\n      <td>6.306</td>\n    </tr>\n    <tr>\n      <th>29</th>\n      <td>5</td>\n      <td>19</td>\n      <td>5</td>\n      <td>0.56</td>\n      <td>61.9</td>\n      <td>55.0</td>\n      <td>7.365</td>\n    </tr>\n    <tr>\n      <th>...</th>\n      <td>...</td>\n      <td>...</td>\n      <td>...</td>\n      <td>...</td>\n      <td>...</td>\n      <td>...</td>\n      <td>...</td>\n    </tr>\n    <tr>\n      <th>40425</th>\n      <td>2</td>\n      <td>19</td>\n      <td>5</td>\n      <td>1.21</td>\n      <td>64.1</td>\n      <td>58.0</td>\n      <td>8.860</td>\n    </tr>\n    <tr>\n      <th>40426</th>\n      <td>3</td>\n      <td>16</td>\n      <td>6</td>\n      <td>0.30</td>\n      <td>63.4</td>\n      <td>57.0</td>\n      <td>6.227</td>\n    </tr>\n    <tr>\n      <th>40427</th>\n      <td>5</td>\n      <td>20</td>\n      <td>7</td>\n      <td>0.33</td>\n      <td>60.9</td>\n      <td>56.0</td>\n      <td>6.881</td>\n    </tr>\n    <tr>\n      <th>40428</th>\n      <td>4</td>\n      <td>18</td>\n      <td>6</td>\n      <td>1.57</td>\n      <td>59.8</td>\n      <td>60.0</td>\n      <td>9.330</td>\n    </tr>\n    <tr>\n      <th>40429</th>\n      <td>1</td>\n      <td>20</td>\n      <td>4</td>\n      <td>0.70</td>\n      <td>65.9</td>\n      <td>59.0</td>\n      <td>7.681</td>\n    </tr>\n    <tr>\n      <th>40430</th>\n      <td>2</td>\n      <td>20</td>\n      <td>2</td>\n      <td>1.50</td>\n      <td>60.6</td>\n      <td>62.0</td>\n      <td>8.578</td>\n    </tr>\n    <tr>\n      <th>40431</th>\n      <td>3</td>\n      <td>17</td>\n      <td>5</td>\n      <td>1.56</td>\n      <td>59.7</td>\n      <td>60.0</td>\n      <td>9.130</td>\n    </tr>\n    <tr>\n      <th>40432</th>\n      <td>3</td>\n      <td>22</td>\n      <td>3</td>\n      <td>0.38</td>\n      <td>61.1</td>\n      <td>58.0</td>\n      <td>6.450</td>\n    </tr>\n    <tr>\n      <th>40433</th>\n      <td>5</td>\n      <td>19</td>\n      <td>3</td>\n      <td>1.10</td>\n      <td>62.1</td>\n      <td>56.0</td>\n      <td>8.466</td>\n    </tr>\n    <tr>\n      <th>40434</th>\n      <td>5</td>\n      <td>20</td>\n      <td>9</td>\n      <td>0.31</td>\n      <td>62.0</td>\n      <td>55.0</td>\n      <td>6.818</td>\n    </tr>\n    <tr>\n      <th>40435</th>\n      <td>3</td>\n      <td>19</td>\n      <td>3</td>\n      <td>0.90</td>\n      <td>62.0</td>\n      <td>59.0</td>\n      <td>8.145</td>\n    </tr>\n    <tr>\n      <th>40436</th>\n      <td>4</td>\n      <td>16</td>\n      <td>3</td>\n      <td>1.61</td>\n      <td>62.2</td>\n      <td>59.0</td>\n      <td>8.888</td>\n    </tr>\n    <tr>\n      <th>40437</th>\n      <td>5</td>\n      <td>21</td>\n      <td>4</td>\n      <td>1.01</td>\n      <td>62.1</td>\n      <td>57.0</td>\n      <td>8.589</td>\n    </tr>\n    <tr>\n      <th>40438</th>\n      <td>5</td>\n      <td>20</td>\n      <td>4</td>\n      <td>0.72</td>\n      <td>61.7</td>\n      <td>59.0</td>\n      <td>7.903</td>\n    </tr>\n    <tr>\n      <th>40439</th>\n      <td>3</td>\n      <td>20</td>\n      <td>6</td>\n      <td>1.03</td>\n      <td>61.7</td>\n      <td>56.0</td>\n      <td>8.804</td>\n    </tr>\n    <tr>\n      <th>40440</th>\n      <td>4</td>\n      <td>20</td>\n      <td>3</td>\n      <td>1.08</td>\n      <td>62.6</td>\n      <td>56.0</td>\n      <td>8.409</td>\n    </tr>\n    <tr>\n      <th>40441</th>\n      <td>4</td>\n      <td>20</td>\n      <td>8</td>\n      <td>0.70</td>\n      <td>61.6</td>\n      <td>59.0</td>\n      <td>8.162</td>\n    </tr>\n    <tr>\n      <th>40442</th>\n      <td>5</td>\n      <td>17</td>\n      <td>6</td>\n      <td>1.09</td>\n      <td>61.4</td>\n      <td>56.0</td>\n      <td>8.736</td>\n    </tr>\n    <tr>\n      <th>40443</th>\n      <td>4</td>\n      <td>21</td>\n      <td>3</td>\n      <td>1.56</td>\n      <td>62.4</td>\n      <td>60.0</td>\n      <td>9.219</td>\n    </tr>\n    <tr>\n      <th>40444</th>\n      <td>2</td>\n      <td>22</td>\n      <td>4</td>\n      <td>1.01</td>\n      <td>63.9</td>\n      <td>60.0</td>\n      <td>8.528</td>\n    </tr>\n    <tr>\n      <th>40445</th>\n      <td>4</td>\n      <td>20</td>\n      <td>4</td>\n      <td>0.43</td>\n      <td>61.3</td>\n      <td>60.0</td>\n      <td>6.924</td>\n    </tr>\n    <tr>\n      <th>40446</th>\n      <td>2</td>\n      <td>18</td>\n      <td>3</td>\n      <td>0.90</td>\n      <td>62.7</td>\n      <td>64.0</td>\n      <td>7.984</td>\n    </tr>\n    <tr>\n      <th>40447</th>\n      <td>4</td>\n      <td>19</td>\n      <td>4</td>\n      <td>1.50</td>\n      <td>62.3</td>\n      <td>58.0</td>\n      <td>9.270</td>\n    </tr>\n    <tr>\n      <th>40448</th>\n      <td>3</td>\n      <td>21</td>\n      <td>7</td>\n      <td>0.50</td>\n      <td>59.1</td>\n      <td>61.0</td>\n      <td>7.653</td>\n    </tr>\n    <tr>\n      <th>40449</th>\n      <td>1</td>\n      <td>17</td>\n      <td>3</td>\n      <td>1.12</td>\n      <td>64.6</td>\n      <td>57.0</td>\n      <td>8.208</td>\n    </tr>\n    <tr>\n      <th>40450</th>\n      <td>5</td>\n      <td>21</td>\n      <td>5</td>\n      <td>0.51</td>\n      <td>62.5</td>\n      <td>55.0</td>\n      <td>7.412</td>\n    </tr>\n    <tr>\n      <th>40451</th>\n      <td>5</td>\n      <td>18</td>\n      <td>5</td>\n      <td>0.80</td>\n      <td>62.1</td>\n      <td>54.0</td>\n      <td>8.016</td>\n    </tr>\n    <tr>\n      <th>40452</th>\n      <td>4</td>\n      <td>19</td>\n      <td>3</td>\n      <td>1.53</td>\n      <td>58.7</td>\n      <td>59.0</td>\n      <td>9.070</td>\n    </tr>\n    <tr>\n      <th>40453</th>\n      <td>5</td>\n      <td>17</td>\n      <td>5</td>\n      <td>1.51</td>\n      <td>61.6</td>\n      <td>54.0</td>\n      <td>9.199</td>\n    </tr>\n    <tr>\n      <th>40454</th>\n      <td>5</td>\n      <td>21</td>\n      <td>5</td>\n      <td>1.00</td>\n      <td>62.1</td>\n      <td>57.0</td>\n      <td>8.932</td>\n    </tr>\n  </tbody>\n</table>\n<p>40455 rows × 7 columns</p>\n</div>",
      "text/plain": [
       "       cut  color  clarity  carat  depth_p  table_p  price\n",
       "0        4     19        6   1.01     62.7     58.0  8.754\n",
       "1        2     19        5   0.60     64.3     57.0  7.492\n",
       "2        4     18        3   1.60     59.4     59.0  9.010\n",
       "3        3     16        6   0.30     63.5     58.0  6.227\n",
       "4        3     20        3   1.00     62.8     57.0  8.314\n",
       "5        5     21        5   0.53     61.9     55.0  7.451\n",
       "6        5     19        9   0.31     61.9     53.0  6.792\n",
       "7        4     16        5   1.00     60.3     58.0  8.240\n",
       "8        3     20        6   1.01     59.9     59.0  8.828\n",
       "9        5     16        6   1.22     60.8     57.0  8.613\n",
       "10       3     19        4   0.39     61.7     57.0  6.528\n",
       "11       2     17        4   1.64     57.9     61.0  9.220\n",
       "12       4     20        4   0.70     62.1     59.0  7.694\n",
       "13       5     19        7   0.36     61.8     54.0  6.677\n",
       "14       4     17        4   1.19     62.2     58.0  8.472\n",
       "15       4     21        7   0.56     59.2     56.0  7.822\n",
       "16       5     19        5   0.56     61.2     56.0  7.365\n",
       "17       3     18        6   0.77     63.3     57.0  7.982\n",
       "18       4     19        5   1.21     62.2     60.0  8.937\n",
       "19       2     16        6   0.71     63.3     55.0  7.540\n",
       "20       3     19        4   0.90     63.0     57.0  8.211\n",
       "21       5     19        9   1.05     62.5     56.0  9.088\n",
       "22       4     21        6   0.40     60.5     61.0  7.026\n",
       "23       4     17        7   0.31     62.2     57.0  6.548\n",
       "24       4     21        6   1.00     63.0     60.0  8.867\n",
       "25       3     18        3   2.01     63.4     57.0  9.687\n",
       "26       5     18        4   1.68     61.9     56.0  9.501\n",
       "27       5     19        9   0.27     61.6     57.0  6.339\n",
       "28       3     21        7   0.25     62.2     58.0  6.306\n",
       "29       5     19        5   0.56     61.9     55.0  7.365\n",
       "...    ...    ...      ...    ...      ...      ...    ...\n",
       "40425    2     19        5   1.21     64.1     58.0  8.860\n",
       "40426    3     16        6   0.30     63.4     57.0  6.227\n",
       "40427    5     20        7   0.33     60.9     56.0  6.881\n",
       "40428    4     18        6   1.57     59.8     60.0  9.330\n",
       "40429    1     20        4   0.70     65.9     59.0  7.681\n",
       "40430    2     20        2   1.50     60.6     62.0  8.578\n",
       "40431    3     17        5   1.56     59.7     60.0  9.130\n",
       "40432    3     22        3   0.38     61.1     58.0  6.450\n",
       "40433    5     19        3   1.10     62.1     56.0  8.466\n",
       "40434    5     20        9   0.31     62.0     55.0  6.818\n",
       "40435    3     19        3   0.90     62.0     59.0  8.145\n",
       "40436    4     16        3   1.61     62.2     59.0  8.888\n",
       "40437    5     21        4   1.01     62.1     57.0  8.589\n",
       "40438    5     20        4   0.72     61.7     59.0  7.903\n",
       "40439    3     20        6   1.03     61.7     56.0  8.804\n",
       "40440    4     20        3   1.08     62.6     56.0  8.409\n",
       "40441    4     20        8   0.70     61.6     59.0  8.162\n",
       "40442    5     17        6   1.09     61.4     56.0  8.736\n",
       "40443    4     21        3   1.56     62.4     60.0  9.219\n",
       "40444    2     22        4   1.01     63.9     60.0  8.528\n",
       "40445    4     20        4   0.43     61.3     60.0  6.924\n",
       "40446    2     18        3   0.90     62.7     64.0  7.984\n",
       "40447    4     19        4   1.50     62.3     58.0  9.270\n",
       "40448    3     21        7   0.50     59.1     61.0  7.653\n",
       "40449    1     17        3   1.12     64.6     57.0  8.208\n",
       "40450    5     21        5   0.51     62.5     55.0  7.412\n",
       "40451    5     18        5   0.80     62.1     54.0  8.016\n",
       "40452    4     19        3   1.53     58.7     59.0  9.070\n",
       "40453    5     17        5   1.51     61.6     54.0  9.199\n",
       "40454    5     21        5   1.00     62.1     57.0  8.932\n",
       "\n",
       "[40455 rows x 7 columns]"
      ]
     },
     "metadata": {},
     "execution_count": 3
    }
   ],
   "source": [
    "df=limpia_catergoricas(df)\n",
    "df=limpia_dimensiones(df)\n",
    "\n",
    "df_size = df[df.carat - np.floor(df.carat) == 0]\n",
    "df_off = df[df.carat - np.floor(df.carat) != 0]\n",
    "#df=df_size\n",
    "#df=df_off\n",
    "df"
   ]
  },
  {
   "cell_type": "code",
   "execution_count": 6,
   "metadata": {},
   "outputs": [
    {
     "output_type": "error",
     "ename": "ImportError",
     "evalue": "No module named 'h2o'",
     "traceback": [
      "\u001b[0;31m---------------------------------------------------------------------------\u001b[0m",
      "\u001b[0;31mImportError\u001b[0m                               Traceback (most recent call last)",
      "\u001b[0;32m<ipython-input-6-9738e7361653>\u001b[0m in \u001b[0;36m<module>\u001b[0;34m()\u001b[0m\n\u001b[0;32m----> 1\u001b[0;31m \u001b[0;32mimport\u001b[0m \u001b[0mh2o\u001b[0m\u001b[0;34m\u001b[0m\u001b[0m\n\u001b[0m\u001b[1;32m      2\u001b[0m \u001b[0;32mfrom\u001b[0m \u001b[0mh2o\u001b[0m\u001b[0;34m.\u001b[0m\u001b[0mestimators\u001b[0m \u001b[0;32mimport\u001b[0m \u001b[0mH2ORandomForestEstimator\u001b[0m\u001b[0;34m\u001b[0m\u001b[0m\n",
      "\u001b[0;31mImportError\u001b[0m: No module named 'h2o'"
     ]
    }
   ],
   "source": [
    "import h2o\n",
    "from h2o.estimators import H2ORandomForestEstimator\n"
   ]
  },
  {
   "cell_type": "code",
   "execution_count": null,
   "metadata": {},
   "outputs": [],
   "source": [
    "h2o.init(ip=\"localhost\", port=54323)"
   ]
  },
  {
   "cell_type": "code",
   "execution_count": null,
   "metadata": {},
   "outputs": [],
   "source": [
    "\n",
    "dia=h2o.H2OFrame(df)\n",
    "\n",
    "\n",
    "# Set the predictors and response;\n",
    "# set the response as a factor:\n",
    "\n",
    "predictors = ['cut','color','clarity','carat','depth_p','table_p']\n",
    "response = 'price'\n",
    "\n",
    "# Split the dataset into a train and valid set:\n",
    "train, valid = dia.split_frame(ratios=[.8])"
   ]
  },
  {
   "cell_type": "code",
   "execution_count": null,
   "metadata": {},
   "outputs": [],
   "source": [
    "train"
   ]
  },
  {
   "cell_type": "code",
   "execution_count": null,
   "metadata": {},
   "outputs": [],
   "source": [
    "valid"
   ]
  },
  {
   "cell_type": "code",
   "execution_count": null,
   "metadata": {},
   "outputs": [],
   "source": [
    "# Build Model   \n",
    "dia_drf = H2ORandomForestEstimator(ntrees=10000,max_depth=2000,nfolds=5)"
   ]
  },
  {
   "cell_type": "code",
   "execution_count": null,
   "metadata": {},
   "outputs": [],
   "source": [
    "#Train\n",
    "dia_drf.train(x=predictors, y=response, training_frame=train)"
   ]
  },
  {
   "cell_type": "code",
   "execution_count": null,
   "metadata": {},
   "outputs": [],
   "source": [
    "performance = dia_drf.model_performance(test_data=valid)\n",
    "\n",
    "print(performance)"
   ]
  },
  {
   "cell_type": "code",
   "execution_count": null,
   "metadata": {},
   "outputs": [],
   "source": [
    "x_test=pd.read_csv('./data/test.csv')\n",
    "x_test=limpia_catergoricas(x_test)\n",
    "x_test=h2o.H2OFrame(x_test)\n",
    "\n",
    "\n",
    "df_sub=pd.DataFrame(regr.predict(x_test))\n",
    "df_sub.reset_index(inplace=True)\n",
    "df_sub.columns=['id','price']\n",
    "# Generate predictions on a validation set (if necessary):\n",
    "pred = dia_drf.predict(valid)"
   ]
  }
 ]
}