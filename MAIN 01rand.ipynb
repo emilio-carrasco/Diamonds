{
 "metadata": {
  "language_info": {
   "codemirror_mode": {
    "name": "ipython",
    "version": 3
   },
   "file_extension": ".py",
   "mimetype": "text/x-python",
   "name": "python",
   "nbconvert_exporter": "python",
   "pygments_lexer": "ipython3",
   "version": "3.5.6"
  },
  "orig_nbformat": 2,
  "kernelspec": {
   "name": "python356jvsc74a57bd0c7dd4a2c4138f2952458b1463775cb0fc55b0efea6e8e1a9c193a4ff894f1633",
   "display_name": "Python 3.5.6 64-bit ('p35': conda)"
  }
 },
 "nbformat": 4,
 "nbformat_minor": 2,
 "cells": [
  {
   "cell_type": "code",
   "execution_count": 1,
   "metadata": {},
   "outputs": [],
   "source": [
    "import pandas as pd\n",
    "from sklearn.model_selection import train_test_split\n",
    "from sklearn.linear_model import LinearRegression\n",
    "from sklearn.metrics import mean_squared_error as mse\n",
    "from sklearn.model_selection import GridSearchCV, ShuffleSplit\n",
    "from sklearn.tree import DecisionTreeRegressor\n",
    "from sklearn.ensemble import RandomForestRegressor\n",
    "import pickle\n",
    "import os\n",
    "\n",
    "import numpy as np\n",
    "\n",
    "df=pd.read_csv('./data/train.csv')\n",
    "\n",
    "def limpia_catergoricas(data):\n",
    "\n",
    "    def limpia_color(df):\n",
    "        return df.apply(lambda x: abs(ord(x.upper())-ord('Z')))\n",
    "\n",
    "\n",
    "    def limpia_corte(df):\n",
    "        dict_cut={'Ideal':5,'Premium':4,  'Very Good':3,'Good':2,  'Fair':1, 'Poor':0}\n",
    "        return df.map(dict_cut)\n",
    "\n",
    "    def limpia_claridad(df):\n",
    "        dict_clarity={'I3':0, 'I2':1, 'I1':2, 'SI2':3, 'SI1':4, 'VS2':5, \n",
    "                    'VS1':6, 'VVS2':7, 'VVS1':8, 'IF':9,'F':10}\n",
    "        return df.map(dict_clarity)\n",
    "\n",
    "    data.color=limpia_color(data.color)\n",
    "    data.cut=limpia_corte(data.cut)\n",
    "    data.clarity=limpia_claridad(data.clarity)\n",
    "    return data\n",
    "    \n",
    "\n",
    "def limpia_dimensiones(data):\n",
    "    data.columns=['id', 'carat', 'cut', 'color', 'clarity', 'depth_p', 'table_p', 'x', 'y',\n",
    "       'z', 'price']\n",
    "    return data[['cut', 'color', 'clarity', 'carat', 'depth_p', 'table_p','price']]\n",
    "\n",
    "def incluye_ideal_table(data,ideal):\n",
    "    data['ideal_table']=abs(data.table_p-ideal)\n",
    "    return data.drop('table_p',axis=1)\n",
    "df=limpia_catergoricas(df)\n",
    "df=limpia_dimensiones(df)\n",
    "\n",
    "df_size = df[df.carat - np.floor(df.carat) == 0]\n",
    "df_off = df[df.carat - np.floor(df.carat) != 0]\n",
    "#df=df_size\n",
    "#df=df_off\n",
    "\n"
   ]
  },
  {
   "cell_type": "code",
   "execution_count": 4,
   "metadata": {},
   "outputs": [
    {
     "output_type": "stream",
     "name": "stdout",
     "text": [
      "{'min_samples_split': [500, 510, 520, 530, 540, 551, 561, 571, 581, 592, 602, 612, 622, 632, 643, 653, 663, 673, 684, 694, 704, 714, 724, 735, 745, 755, 765, 776, 786, 796, 806, 816, 827, 837, 847, 857, 868, 878, 888, 898, 908, 919, 929, 939, 949, 960, 970, 980, 990, 1001], 'max_features': [6], 'n_estimators': [10, 13, 17, 21, 25, 29, 33, 37, 41, 45, 49, 53, 57, 61, 65, 69, 73, 77, 81, 85, 89, 93, 97, 101, 105, 109, 113, 117, 121, 125, 129, 133, 137, 141, 145, 149, 153, 157, 161, 165, 169, 173, 177, 181, 185, 189, 193, 197, 201, 205, 209, 213, 217, 221, 225, 229, 233, 237, 241, 245, 249, 253, 257, 261, 265, 269, 273, 277, 281, 285, 289, 293, 297, 301, 305, 309, 313, 317, 321, 325, 329, 333, 337, 341, 344, 348, 352, 356, 360, 364, 368, 372, 376, 380, 384, 388, 392, 396, 400, 404, 408, 412, 416, 420, 424, 428, 432, 436, 440, 444, 448, 452, 456, 460, 464, 468, 472, 476, 480, 484, 488, 492, 496, 500, 504, 508, 512, 516, 520, 524, 528, 532, 536, 540, 544, 548, 552, 556, 560, 564, 568, 572, 576, 580, 584, 588, 592, 596, 600, 604, 608, 612, 616, 620, 624, 628, 632, 636, 640, 644, 648, 652, 656, 660, 664, 668, 672, 675, 679, 683, 687, 691, 695, 699, 703, 707, 711, 715, 719, 723, 727, 731, 735, 739, 743, 747, 751, 755, 759, 763, 767, 771, 775, 779, 783, 787, 791, 795, 799, 803, 807, 811, 815, 819, 823, 827, 831, 835, 839, 843, 847, 851, 855, 859, 863, 867, 871, 875, 879, 883, 887, 891, 895, 899, 903, 907, 911, 915, 919, 923, 927, 931, 935, 939, 943, 947, 951, 955, 959, 963, 967, 971, 975, 979, 983, 987, 991, 995, 999, 1003, 1006, 1010, 1014, 1018, 1022, 1026, 1030, 1034, 1038, 1042, 1046, 1050, 1054, 1058, 1062, 1066, 1070, 1074, 1078, 1082, 1086, 1090, 1094, 1098, 1102, 1106, 1110, 1114, 1118, 1122, 1126, 1130, 1134, 1138, 1142, 1146, 1150, 1154, 1158, 1162, 1166, 1170, 1174, 1178, 1182, 1186, 1190, 1194, 1198, 1202, 1206, 1210, 1214, 1218, 1222, 1226, 1230, 1234, 1238, 1242, 1246, 1250, 1254, 1258, 1262, 1266, 1270, 1274, 1278, 1282, 1286, 1290, 1294, 1298, 1302, 1306, 1310, 1314, 1318, 1322, 1326, 1330, 1334, 1337, 1341, 1345, 1349, 1353, 1357, 1361, 1365, 1369, 1373, 1377, 1381, 1385, 1389, 1393, 1397, 1401, 1405, 1409, 1413, 1417, 1421, 1425, 1429, 1433, 1437, 1441, 1445, 1449, 1453, 1457, 1461, 1465, 1469, 1473, 1477, 1481, 1485, 1489, 1493, 1497, 1501, 1505, 1509, 1513, 1517, 1521, 1525, 1529, 1533, 1537, 1541, 1545, 1549, 1553, 1557, 1561, 1565, 1569, 1573, 1577, 1581, 1585, 1589, 1593, 1597, 1601, 1605, 1609, 1613, 1617, 1621, 1625, 1629, 1633, 1637, 1641, 1645, 1649, 1653, 1657, 1661, 1665, 1668, 1672, 1676, 1680, 1684, 1688, 1692, 1696, 1700, 1704, 1708, 1712, 1716, 1720, 1724, 1728, 1732, 1736, 1740, 1744, 1748, 1752, 1756, 1760, 1764, 1768, 1772, 1776, 1780, 1784, 1788, 1792, 1796, 1800, 1804, 1808, 1812, 1816, 1820, 1824, 1828, 1832, 1836, 1840, 1844, 1848, 1852, 1856, 1860, 1864, 1868, 1872, 1876, 1880, 1884, 1888, 1892, 1896, 1900, 1904, 1908, 1912, 1916, 1920, 1924, 1928, 1932, 1936, 1940, 1944, 1948, 1952, 1956, 1960, 1964, 1968, 1972, 1976, 1980, 1984, 1988, 1992, 1996, 2000], 'bootstrap': [True], 'min_samples_leaf': [0, 2, 5, 7, 10, 12, 15, 17, 20], 'max_depth': [1000, 1008, 1016, 1024, 1032, 1040, 1048, 1056, 1064, 1072, 1080, 1088, 1096, 1104, 1112, 1120, 1128, 1136, 1144, 1152, 1160, 1168, 1176, 1184, 1192, 1200, 1208, 1216, 1224, 1232, 1240, 1248, 1256, 1264, 1272, 1280, 1288, 1296, 1304, 1312, 1320, 1328, 1336, 1344, 1352, 1360, 1368, 1376, 1384, 1392, 1400, 1408, 1416, 1424, 1432, 1440, 1448, 1456, 1464, 1472, 1480, 1488, 1496, 1505, 1513, 1521, 1529, 1537, 1545, 1553, 1561, 1569, 1577, 1585, 1593, 1601, 1609, 1617, 1625, 1633, 1641, 1649, 1657, 1665, 1673, 1681, 1689, 1697, 1705, 1713, 1721, 1729, 1737, 1745, 1753, 1761, 1769, 1777, 1785, 1793, 1801, 1809, 1817, 1825, 1833, 1841, 1849, 1857, 1865, 1873, 1881, 1889, 1897, 1905, 1913, 1921, 1929, 1937, 1945, 1953, 1961, 1969, 1977, 1985, 1993, 2002, 2010, 2018, 2026, 2034, 2042, 2050, 2058, 2066, 2074, 2082, 2090, 2098, 2106, 2114, 2122, 2130, 2138, 2146, 2154, 2162, 2170, 2178, 2186, 2194, 2202, 2210, 2218, 2226, 2234, 2242, 2250, 2258, 2266, 2274, 2282, 2290, 2298, 2306, 2314, 2322, 2330, 2338, 2346, 2354, 2362, 2370, 2378, 2386, 2394, 2402, 2410, 2418, 2426, 2434, 2442, 2450, 2458, 2466, 2474, 2482, 2490, 2498, 2507, 2515, 2523, 2531, 2539, 2547, 2555, 2563, 2571, 2579, 2587, 2595, 2603, 2611, 2619, 2627, 2635, 2643, 2651, 2659, 2667, 2675, 2683, 2691, 2699, 2707, 2715, 2723, 2731, 2739, 2747, 2755, 2763, 2771, 2779, 2787, 2795, 2803, 2811, 2819, 2827, 2835, 2843, 2851, 2859, 2867, 2875, 2883, 2891, 2899, 2907, 2915, 2923, 2931, 2939, 2947, 2955, 2963, 2971, 2979, 2987, 2995, 3004, 3012, 3020, 3028, 3036, 3044, 3052, 3060, 3068, 3076, 3084, 3092, 3100, 3108, 3116, 3124, 3132, 3140, 3148, 3156, 3164, 3172, 3180, 3188, 3196, 3204, 3212, 3220, 3228, 3236, 3244, 3252, 3260, 3268, 3276, 3284, 3292, 3300, 3308, 3316, 3324, 3332, 3340, 3348, 3356, 3364, 3372, 3380, 3388, 3396, 3404, 3412, 3420, 3428, 3436, 3444, 3452, 3460, 3468, 3476, 3484, 3492, 3501, 3509, 3517, 3525, 3533, 3541, 3549, 3557, 3565, 3573, 3581, 3589, 3597, 3605, 3613, 3621, 3629, 3637, 3645, 3653, 3661, 3669, 3677, 3685, 3693, 3701, 3709, 3717, 3725, 3733, 3741, 3749, 3757, 3765, 3773, 3781, 3789, 3797, 3805, 3813, 3821, 3829, 3837, 3845, 3853, 3861, 3869, 3877, 3885, 3893, 3901, 3909, 3917, 3925, 3933, 3941, 3949, 3957, 3965, 3973, 3981, 3989, 3997, 4006, 4014, 4022, 4030, 4038, 4046, 4054, 4062, 4070, 4078, 4086, 4094, 4102, 4110, 4118, 4126, 4134, 4142, 4150, 4158, 4166, 4174, 4182, 4190, 4198, 4206, 4214, 4222, 4230, 4238, 4246, 4254, 4262, 4270, 4278, 4286, 4294, 4302, 4310, 4318, 4326, 4334, 4342, 4350, 4358, 4366, 4374, 4382, 4390, 4398, 4406, 4414, 4422, 4430, 4438, 4446, 4454, 4462, 4470, 4478, 4486, 4494, 4503, 4511, 4519, 4527, 4535, 4543, 4551, 4559, 4567, 4575, 4583, 4591, 4599, 4607, 4615, 4623, 4631, 4639, 4647, 4655, 4663, 4671, 4679, 4687, 4695, 4703, 4711, 4719, 4727, 4735, 4743, 4751, 4759, 4767, 4775, 4783, 4791, 4799, 4807, 4815, 4823, 4831, 4839, 4847, 4855, 4863, 4871, 4879, 4887, 4895, 4903, 4911, 4919, 4927, 4935, 4943, 4951, 4959, 4967, 4975, 4983, 4991, 5000]}\n",
      "Fitting 5 folds for each of 300 candidates, totalling 1500 fits\n",
      "[Parallel(n_jobs=-1)]: Using backend LokyBackend with 8 concurrent workers.\n",
      "[Parallel(n_jobs=-1)]: Done  16 tasks      | elapsed:   51.4s\n",
      "[Parallel(n_jobs=-1)]: Done 112 tasks      | elapsed:  8.1min\n",
      "[Parallel(n_jobs=-1)]: Done 272 tasks      | elapsed: 19.6min\n",
      "[Parallel(n_jobs=-1)]: Done 496 tasks      | elapsed: 33.4min\n",
      "[Parallel(n_jobs=-1)]: Done 784 tasks      | elapsed: 55.3min\n",
      "[Parallel(n_jobs=-1)]: Done 1136 tasks      | elapsed: 80.6min\n",
      "[Parallel(n_jobs=-1)]: Done 1500 out of 1500 | elapsed: 103.1min finished\n"
     ]
    },
    {
     "output_type": "execute_result",
     "data": {
      "text/plain": [
       "0.03645910999074288"
      ]
     },
     "metadata": {},
     "execution_count": 4
    }
   ],
   "source": [
    "from sklearn.model_selection import RandomizedSearchCV\r\n",
    "max_depth = [int(x) for x in np.linspace(start = 1000, stop = 5000, num = 500)]\r\n",
    "max_features = [6]\r\n",
    "n_estimators = [int(x) for x in np.linspace(start = 10, stop = 2000, num = 500)]\r\n",
    "min_samples_split = [int(x) for x in np.linspace(2, 101, num = 50 )]\r\n",
    "min_samples_leaf = [int(x) for x in np.linspace(1, 20, num = 9 )]\r\n",
    "# Method of selecting samples for training each tree\r\n",
    "bootstrap = [True]\r\n",
    "# Create the random grid\r\n",
    "\r\n",
    "param = {'n_estimators': n_estimators,\r\n",
    "               'max_features': max_features,\r\n",
    "               'max_depth': max_depth,\r\n",
    "               'min_samples_split': min_samples_split,\r\n",
    "               'min_samples_leaf': min_samples_leaf,\r\n",
    "               'bootstrap': bootstrap,\r\n",
    "               }\r\n",
    "\r\n",
    "x=df.drop('price',axis=1)\r\n",
    "y=df.price\r\n",
    "x_train, x_test, y_train, y_test = train_test_split(x, y, test_size=0.2)\r\n",
    "\r\n",
    "print(param)\r\n",
    "\r\n",
    "rf=RandomForestRegressor(min_impurity_decrease=0.001, warm_start=False)\r\n",
    "rf_random = RandomizedSearchCV(estimator = rf, n_iter=300, param_distributions= param, scoring='neg_mean_squared_error', cv=5, verbose=3, n_jobs = -1)\r\n",
    "\r\n",
    "rf_random.fit(x_train, y_train)\r\n",
    "\r\n",
    "mse(y_test,rf_random.predict(x_test))"
   ]
  },
  {
   "cell_type": "code",
   "execution_count": 5,
   "metadata": {},
   "outputs": [
    {
     "output_type": "stream",
     "name": "stdout",
     "text": [
      "0.03645910999074288\n"
     ]
    },
    {
     "output_type": "execute_result",
     "data": {
      "text/plain": [
       "RandomForestRegressor(bootstrap=True, ccp_alpha=0.0, criterion='mse',\n",
       "                      max_depth=2643, max_features=6, max_leaf_nodes=None,\n",
       "                      max_samples=None, min_impurity_decrease=0.001,\n",
       "                      min_impurity_split=None, min_samples_leaf=17,\n",
       "                      min_samples_split=510, min_weight_fraction_leaf=0.0,\n",
       "                      n_estimators=691, n_jobs=None, oob_score=False,\n",
       "                      random_state=None, verbose=0, warm_start=False)"
      ]
     },
     "metadata": {},
     "execution_count": 5
    }
   ],
   "source": [
    "print(mse(y_test,rf_random.predict(x_test)))\n",
    "rf_random.best_estimator_\n",
    "\n"
   ]
  },
  {
   "cell_type": "code",
   "execution_count": 3,
   "metadata": {},
   "outputs": [
    {
     "output_type": "stream",
     "name": "stdout",
     "text": [
      "0.03663078558219718\n"
     ]
    },
    {
     "output_type": "execute_result",
     "data": {
      "text/plain": [
       "RandomForestRegressor(bootstrap=True, ccp_alpha=0.0, criterion='mse',\n",
       "                      max_depth=4254, max_features=6, max_leaf_nodes=None,\n",
       "                      max_samples=None, min_impurity_decrease=0.001,\n",
       "                      min_impurity_split=None, min_samples_leaf=20,\n",
       "                      min_samples_split=712, min_weight_fraction_leaf=0.0,\n",
       "                      n_estimators=1250, n_jobs=None, oob_score=False,\n",
       "                      random_state=None, verbose=0, warm_start=False)"
      ]
     },
     "metadata": {},
     "execution_count": 3
    }
   ],
   "source": [
    "print(mse(y_test,rf_random.predict(x_test)))\n",
    "rf_random.best_estimator_\n"
   ]
  },
  {
   "cell_type": "code",
   "execution_count": 3,
   "metadata": {},
   "outputs": [
    {
     "output_type": "stream",
     "name": "stdout",
     "text": [
      "0.036279051823871186\n"
     ]
    },
    {
     "output_type": "execute_result",
     "data": {
      "text/plain": [
       "RandomForestRegressor(bootstrap=True, ccp_alpha=0.0, criterion='mse',\n",
       "                      max_depth=12131, max_features=6, max_leaf_nodes=None,\n",
       "                      max_samples=None, min_impurity_decrease=0.001,\n",
       "                      min_impurity_split=None, min_samples_leaf=20,\n",
       "                      min_samples_split=472, min_weight_fraction_leaf=0.0,\n",
       "                      n_estimators=110, n_jobs=None, oob_score=False,\n",
       "                      random_state=None, verbose=0, warm_start=False)"
      ]
     },
     "metadata": {},
     "execution_count": 3
    }
   ],
   "source": [
    "print(mse(y_test,rf_random.predict(x_test)))\n",
    "rf_random.best_estimator_\n"
   ]
  },
  {
   "cell_type": "code",
   "execution_count": 3,
   "metadata": {
    "tags": []
   },
   "outputs": [
    {
     "output_type": "execute_result",
     "data": {
      "text/plain": [
       "RandomForestRegressor(bootstrap=True, ccp_alpha=0.0, criterion='mse',\n",
       "                      max_depth=10979, max_features=6, max_leaf_nodes=None,\n",
       "                      max_samples=None, min_impurity_decrease=0.001,\n",
       "                      min_impurity_split=None, min_samples_leaf=5001,\n",
       "                      min_samples_split=684, min_weight_fraction_leaf=0.0,\n",
       "                      n_estimators=10, n_jobs=None, oob_score=False,\n",
       "                      random_state=None, verbose=0, warm_start=False)"
      ]
     },
     "metadata": {},
     "execution_count": 3
    }
   ],
   "source": [
    "rf_random.best_estimator_\n"
   ]
  },
  {
   "cell_type": "code",
   "execution_count": 7,
   "metadata": {},
   "outputs": [
    {
     "output_type": "execute_result",
     "data": {
      "text/plain": [
       "RandomForestRegressor(bootstrap=True, ccp_alpha=0.0, criterion='mse',\n",
       "                      max_depth=72000, max_features=6, max_leaf_nodes=None,\n",
       "                      max_samples=None, min_impurity_decrease=0.001,\n",
       "                      min_impurity_split=None, min_samples_leaf=20,\n",
       "                      min_samples_split=500, min_weight_fraction_leaf=0.0,\n",
       "                      n_estimators=1919, n_jobs=None, oob_score=False,\n",
       "                      random_state=None, verbose=0, warm_start=False)"
      ]
     },
     "metadata": {},
     "execution_count": 7
    }
   ],
   "source": [
    "rf_random.best_estimator_\n"
   ]
  },
  {
   "cell_type": "code",
   "execution_count": 8,
   "metadata": {},
   "outputs": [
    {
     "output_type": "execute_result",
     "data": {
      "text/plain": [
       "0.035219735222454855"
      ]
     },
     "metadata": {},
     "execution_count": 8
    }
   ],
   "source": [
    "mse(y_test,rf__random_mejor.predict(x_test))"
   ]
  },
  {
   "cell_type": "code",
   "execution_count": null,
   "metadata": {},
   "outputs": [],
   "source": []
  }
 ]
}